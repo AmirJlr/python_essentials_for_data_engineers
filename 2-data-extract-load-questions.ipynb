{
 "cells": [
  {
   "cell_type": "markdown",
   "metadata": {},
   "source": [
    "## Extract: Process to pull data from Source system\n",
    "## Load: Process to write data to a destination system\n",
    "\n",
    "### Common upstream & downstream systems\n",
    "- **OLTP Databases: Postgres, MySQL, sqlite3, etc**\n",
    "- **OLAP Databases: Snowflake, BigQuery, Clickhouse, DuckDB, etc**\n",
    "- **Cloud data storage: AWS S3, GCP Cloud Store, Minio, etc**\n",
    "- **Queue systems: Kafka, Redpanda, etc**\n",
    "- **API**\n",
    "- **Local disk: csv, excel, json, xml files**\n",
    "- **SFTP\\FTP server**\n",
    "\n",
    "### Databases\n",
    "When reading or writing to a database we use a database driver. Database drivers are libraries that we can use to read or write to a database.\n"
   ]
  },
  {
   "cell_type": "markdown",
   "metadata": {},
   "source": [
    "- #### Question: How do you read data from a sqlite3 database and write to a DuckDB database?\n",
    "- Hint: Look at importing the database libraries for sqlite3 and duckdb and create connections to talk to the respective databases\n",
    "\n",
    "DuckDB is an in-process SQL OLAP database management system that can be used directly within a Python environment. It allows us to efficiently query large datasets without the need for a separate database server."
   ]
  },
  {
   "cell_type": "code",
   "execution_count": 20,
   "metadata": {},
   "outputs": [],
   "source": [
    "import sqlite3\n",
    "\n",
    "# Connect to an SQLite database (or create it if it doesn't exist)\n",
    "conn = sqlite3.connect('2-entertainment.db')\n",
    "\n",
    "# Create a cursor object using the cursor() method\n",
    "cursor = conn.cursor()\n",
    "\n",
    "# Create table\n",
    "cursor.execute('''CREATE TABLE IF NOT EXISTS movies\n",
    "            (title, year, score)''')\n",
    "\n",
    "# Insert a row of data\n",
    "data = [\n",
    "    ('Monty Python and the Holy Grail', 1975, 8.2),\n",
    "    ('And Now for Something Completely Different', 1971, 7.5), \n",
    "    ('Sopranos', 2001, 9.9),\n",
    "    ('Breaking Bad', 2008, 9.8),\n",
    "    ('Vikings', 2014, 9)\n",
    "]\n",
    "cursor.executemany(\"INSERT INTO movies VALUES(?, ?, ?)\", data)\n",
    "\n",
    "# Save (commit) the changes\n",
    "conn.commit()\n",
    "\n",
    "# Close the connection\n",
    "conn.close()"
   ]
  },
  {
   "cell_type": "code",
   "execution_count": 21,
   "metadata": {},
   "outputs": [
    {
     "data": {
      "text/plain": [
       "[('Monty Python and the Holy Grail', 1975, 8.2),\n",
       " ('And Now for Something Completely Different', 1971, 7.5),\n",
       " ('Sopranos', 2001, 9.9),\n",
       " ('Breaking Bad', 2008, 9.8),\n",
       " ('Vikings', 2014, 9)]"
      ]
     },
     "execution_count": 21,
     "metadata": {},
     "output_type": "execute_result"
    }
   ],
   "source": [
    "conn = sqlite3.connect('2-entertainment.db')\n",
    "cur = conn.cursor()\n",
    "\n",
    "results = cur.execute(\"SELECT * FROM movies\")\n",
    "sqllite_results = results.fetchall()\n",
    "sqllite_results"
   ]
  },
  {
   "cell_type": "code",
   "execution_count": 22,
   "metadata": {},
   "outputs": [
    {
     "data": {
      "text/plain": [
       "[('Monty Python and the Holy Grail', 1975, 8.199999809265137),\n",
       " ('And Now for Something Completely Different', 1971, 7.5),\n",
       " ('Sopranos', 2001, 9.899999618530273),\n",
       " ('Breaking Bad', 2008, 9.800000190734863),\n",
       " ('Vikings', 2014, 9.0),\n",
       " ('Monty Python and the Holy Grail', 1975, 8.199999809265137),\n",
       " ('And Now for Something Completely Different', 1971, 7.5),\n",
       " ('Sopranos', 2001, 9.899999618530273),\n",
       " ('Breaking Bad', 2008, 9.800000190734863),\n",
       " ('Vikings', 2014, 9.0)]"
      ]
     },
     "execution_count": 22,
     "metadata": {},
     "output_type": "execute_result"
    }
   ],
   "source": [
    "import duckdb\n",
    "con = duckdb.connect(database='2-ent.duckdb', read_only=False)\n",
    "\n",
    "# Insert data from list\n",
    "con.executemany(\"INSERT INTO movies VALUES (?, ?, ?)\", sqllite_results)\n",
    "duckdb_results = con.execute(\"SELECT * FROM movies\").fetchall()\n",
    "con.close()\n",
    "\n",
    "duckdb_results"
   ]
  },
  {
   "cell_type": "code",
   "execution_count": null,
   "metadata": {},
   "outputs": [],
   "source": []
  },
  {
   "cell_type": "code",
   "execution_count": null,
   "metadata": {},
   "outputs": [],
   "source": []
  }
 ],
 "metadata": {
  "kernelspec": {
   "display_name": "pyde",
   "language": "python",
   "name": "python3"
  },
  "language_info": {
   "codemirror_mode": {
    "name": "ipython",
    "version": 3
   },
   "file_extension": ".py",
   "mimetype": "text/x-python",
   "name": "python",
   "nbconvert_exporter": "python",
   "pygments_lexer": "ipython3",
   "version": "3.12.7"
  }
 },
 "nbformat": 4,
 "nbformat_minor": 2
}
