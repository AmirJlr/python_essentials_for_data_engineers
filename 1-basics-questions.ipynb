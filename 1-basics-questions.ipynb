{
 "cells": [
  {
   "cell_type": "markdown",
   "metadata": {},
   "source": [
    "## Python Basic Questions"
   ]
  },
  {
   "cell_type": "markdown",
   "metadata": {},
   "source": [
    "- Variable: A storage location identified by its name, containing some value.\n",
    "- Question: Assign a value of 10 to variable a and 20 to variable b\n",
    "- Question: Store the result of a + b in a variable c and print it. What is the result of a + b?"
   ]
  },
  {
   "cell_type": "code",
   "execution_count": 2,
   "metadata": {},
   "outputs": [
    {
     "name": "stdout",
     "output_type": "stream",
     "text": [
      "10 + 20 = 30\n"
     ]
    }
   ],
   "source": [
    "a = 10\n",
    "b = 20\n",
    "\n",
    "c = a + b\n",
    "print(f\"{a} + {b} = {c}\")"
   ]
  },
  {
   "cell_type": "markdown",
   "metadata": {},
   "source": [
    "- Question: How do you remove the empty spaces in front of and behind the string s?"
   ]
  },
  {
   "cell_type": "code",
   "execution_count": 3,
   "metadata": {},
   "outputs": [
    {
     "name": "stdout",
     "output_type": "stream",
     "text": [
      "Striped String : Some string\n"
     ]
    }
   ],
   "source": [
    "s = '  Some string '\n",
    "print(f\"Striped String : {s.strip()}\")"
   ]
  },
  {
   "cell_type": "markdown",
   "metadata": {},
   "source": [
    "- Data Structures are ways of representing data, each has its own pros and cons and places that they are the right fit.\n",
    "\n",
    "### List \n",
    "- List: A collection of elements that can be accessed by knowing the location (aka index) of the element\n",
    "\n",
    "- Question: How do you access the elements in index 0 and 3? Print the results.\n"
   ]
  },
  {
   "cell_type": "code",
   "execution_count": 4,
   "metadata": {},
   "outputs": [
    {
     "name": "stdout",
     "output_type": "stream",
     "text": [
      "index 0 = 1 and index 3 = 4\n"
     ]
    }
   ],
   "source": [
    "l = [1, 2, 3, 4]\n",
    "\n",
    "print(f\"index 0 = {l[0]} and index 3 = {l[3]}\")"
   ]
  },
  {
   "cell_type": "markdown",
   "metadata": {},
   "source": [
    "- NOTE: lists retain the order of elements in it but dictionary doesn't\n",
    "\n",
    "### Dictionary\n",
    " A collection of key-value pairs, where each key is mapped to a value using a hash function. Provides fast data retrieval based on keys.\n",
    "\n",
    "- NOTE: The dictionary cannot have duplicate keys"
   ]
  },
  {
   "cell_type": "code",
   "execution_count": 5,
   "metadata": {},
   "outputs": [
    {
     "name": "stdout",
     "output_type": "stream",
     "text": [
      "dictionary a value : 1\n",
      "dictionary b value : 2\n"
     ]
    }
   ],
   "source": [
    "# Question: How do you access the values associated with keys 'a' and 'b'?\n",
    "d = {'a': 1, 'b': 2}\n",
    "\n",
    "print(f\"dictionary a value : {d['a']}\")\n",
    "print(f\"dictionary b value : {d['b']}\")"
   ]
  },
  {
   "cell_type": "markdown",
   "metadata": {},
   "source": [
    "### Set\n",
    " A collection of unique elements that do not allow duplicates"
   ]
  },
  {
   "cell_type": "code",
   "execution_count": 7,
   "metadata": {},
   "outputs": [
    {
     "name": "stdout",
     "output_type": "stream",
     "text": [
      "my_set = {10}\n"
     ]
    }
   ],
   "source": [
    "my_set = set()\n",
    "my_set.add(10)\n",
    "my_set.add(10)\n",
    "my_set.add(10)\n",
    "\n",
    "# Question: What will be the output of my_set?\n",
    "# {10}\n",
    "print(f\"my_set = {my_set}\")"
   ]
  },
  {
   "cell_type": "markdown",
   "metadata": {},
   "source": [
    "### Tuple\n",
    " A collection of immutable (non-changeable) elements, tuples retain their order once created."
   ]
  },
  {
   "cell_type": "code",
   "execution_count": 9,
   "metadata": {},
   "outputs": [
    {
     "name": "stdout",
     "output_type": "stream",
     "text": [
      "my_tuple = (1, 'hello', 3.14)\n",
      "first tuple element = 1\n",
      "index 0 of tuple : 1, index 1 of tuple : hello\n",
      "Count 1 elements in tuple = 3\n",
      "Index of the first occurrence of the number 2 in tuple = 1\n"
     ]
    }
   ],
   "source": [
    "my_tuple = (1, 'hello', 3.14)\n",
    "\n",
    "# Question: What is the value of my_tuple?\n",
    "print(f\"my_tuple = {my_tuple}\")\n",
    "\n",
    "# Accessing elements by index\n",
    "print(f\"first tuple element = {my_tuple[0]}\")\n",
    "\n",
    "# Question: How do you access the elements in index 0 and 1 of my_tuple?\n",
    "print(f\"index 0 of tuple : {my_tuple[0]}, index 1 of tuple : {my_tuple[1]}\")\n",
    "\n",
    "# Counting occurrences of an element\n",
    "count_tuple = (1, 2, 3, 1, 1, 2)\n",
    "\n",
    "# Question: How many times does the number 1 appear in count_tuple?\n",
    "print(f\"Count 1 elements in tuple = {count_tuple.count(1)}\")\n",
    "\n",
    "# Finding the index of an element\n",
    "# Question: What is the index of the first occurrence of the number 2 in count_tuple?\n",
    "print(f\"Index of the first occurrence of the number 2 in tuple = {count_tuple.index(2)}\")\n"
   ]
  },
  {
   "cell_type": "markdown",
   "metadata": {},
   "source": [
    "### Loop\n",
    "allows a specific chunk of code to be repeated a certain number of times"
   ]
  },
  {
   "cell_type": "code",
   "execution_count": 11,
   "metadata": {},
   "outputs": [
    {
     "name": "stdout",
     "output_type": "stream",
     "text": [
      "0 1 2 3 4 5 6 7 8 9 10 "
     ]
    }
   ],
   "source": [
    "# Example: We can use a loop to print numbers 0 through 10\n",
    "for i in range(11):\n",
    "    print(i, end=' ')"
   ]
  },
  {
   "cell_type": "code",
   "execution_count": 14,
   "metadata": {},
   "outputs": [
    {
     "name": "stdout",
     "output_type": "stream",
     "text": [
      "100 200 300 400 "
     ]
    }
   ],
   "source": [
    "# List loop\n",
    "# Question: How do you loop through a list and print its elements?\n",
    "\n",
    "list_loop = [100, 200, 300, 400]\n",
    "for i in list_loop:\n",
    "    print(i, end= ' ')"
   ]
  },
  {
   "cell_type": "code",
   "execution_count": 17,
   "metadata": {},
   "outputs": [
    {
     "name": "stdout",
     "output_type": "stream",
     "text": [
      "amir is 25 years old!\n",
      "amirhossein is 24 years old!\n",
      "mos is 28 years old!\n"
     ]
    }
   ],
   "source": [
    "# Dictionary loop\n",
    "# Question: How do you loop through a dictionary and print its keys and values?\n",
    "\n",
    "list_dict = {\n",
    "    \"amir\" : 25,\n",
    "    \"amirhossein\" : 24,\n",
    "    \"mos\" : 28\n",
    "}\n",
    "\n",
    "for name, age in list_dict.items():\n",
    "    print(f\"{name} is {age} years old!\")"
   ]
  },
  {
   "cell_type": "code",
   "execution_count": 19,
   "metadata": {},
   "outputs": [
    {
     "name": "stdout",
     "output_type": "stream",
     "text": [
      "[10, 18, 34, 72]\n"
     ]
    }
   ],
   "source": [
    "# Comprehension is a shorthand way of writing a loop\n",
    "# Question: Multiply every element in list l with 2 and print the result\n",
    "\n",
    "lst1 = [5, 9, 17, 36]\n",
    "print([i * 2 for i in lst1])"
   ]
  },
  {
   "cell_type": "markdown",
   "metadata": {},
   "source": [
    "### Functions\n",
    "A block of code that can be re-used as needed. This allows for us to have logic defined in one place, making it easy to maintain and use.\n"
   ]
  },
  {
   "cell_type": "code",
   "execution_count": 20,
   "metadata": {},
   "outputs": [
    {
     "name": "stdout",
     "output_type": "stream",
     "text": [
      "[4, 5, 6]\n",
      "[]\n"
     ]
    }
   ],
   "source": [
    "## For example, let's create a simple function that takes a list as an input and returns another list whose values are greater than 3\n",
    "\n",
    "def gt_three(input_list):\n",
    "    return [elt for elt in input_list if elt > 3]\n",
    "\n",
    "\n",
    "list_1 = [1, 2, 3, 4, 5, 6]\n",
    "print(gt_three(list_1))\n",
    "\n",
    "list_2 = [1, 2, 3, 1, 1, 1]\n",
    "print(gt_three(list_2))\n"
   ]
  },
  {
   "cell_type": "markdown",
   "metadata": {},
   "source": [
    "### Classes and Objects\n",
    "\n",
    "- Think of a class as a blueprint and objects as things created based on that blueprint"
   ]
  },
  {
   "cell_type": "code",
   "execution_count": 21,
   "metadata": {},
   "outputs": [
    {
     "name": "stdout",
     "output_type": "stream",
     "text": [
      "connector\n"
     ]
    }
   ],
   "source": [
    "# You can define classes in Python as shown below\n",
    "class DataExtractor:\n",
    "\n",
    "    def __init__(self, some_value):\n",
    "        self.some_value = some_value\n",
    "\n",
    "    def get_connection(self):\n",
    "        # Some logic\n",
    "        # some_value is accessible using self.some_value\n",
    "        pass\n",
    "\n",
    "    def close_connection(self):\n",
    "        # Some logic\n",
    "        # some_value is accessible using self.some_value\n",
    "        pass\n",
    "\n",
    "# Question: How do you create a DataExtractor object and print its some_value attribute?\n",
    "de = DataExtractor(\"connector\")\n",
    "print(de.some_value)"
   ]
  },
  {
   "cell_type": "markdown",
   "metadata": {},
   "source": [
    "### Libraries\n",
    " are code that can be reused."
   ]
  },
  {
   "cell_type": "code",
   "execution_count": 29,
   "metadata": {},
   "outputs": [
    {
     "name": "stdout",
     "output_type": "stream",
     "text": [
      "2025/02/02\n"
     ]
    }
   ],
   "source": [
    "# Python comes with some standard libraries to do common operations, \n",
    "# such as the datetime library to work with time (although there are better libraries)\n",
    "\n",
    "from datetime import datetime  \n",
    "\n",
    "# Question: How do you print the current date in the format 'YYYY MM DD'? Hint: Google strftime\n",
    "print(datetime.now().strftime(\"%Y/%m/%d\"))"
   ]
  },
  {
   "cell_type": "markdown",
   "metadata": {},
   "source": [
    "### Exception handling\n",
    "When an error occurs, we need our code to gracefully handle it without just stopping. "
   ]
  },
  {
   "cell_type": "code",
   "execution_count": 30,
   "metadata": {},
   "outputs": [],
   "source": [
    "# Here is how we can handle errors when the program is running\n",
    "try:\n",
    "    # Code that might raise an exception\n",
    "    pass\n",
    "except Exception as e: \n",
    "    # Code that runs if the exception occurs\n",
    "    pass\n",
    "else:\n",
    "    # Code that runs if no exception occurs\n",
    "    pass\n",
    "finally:\n",
    "    # Code that always runs, regardless of exceptions\n",
    "    pass"
   ]
  },
  {
   "cell_type": "code",
   "execution_count": 35,
   "metadata": {},
   "outputs": [
    {
     "name": "stdout",
     "output_type": "stream",
     "text": [
      "index is out of range\n",
      "4\n",
      "Out Of Range!\n"
     ]
    }
   ],
   "source": [
    "# For example, let's consider exception handling on accessing an element that is not present in a list l\n",
    "l = [1, 2, 3, 4, 5]\n",
    "\n",
    "# Question: How do you handle an IndexError when accessing an invalid index in a list?\n",
    "# NOTE: in the except block its preferred to specify the exact erro/exception that you want to handle\n",
    "\n",
    "\n",
    "try:\n",
    "    print(l[10])\n",
    "except IndexError:\n",
    "    print(\"index is out of range\")\n",
    "\n",
    "\n",
    "# Functional :\n",
    "def access_index(input_list:list, idx:int):\n",
    "    try:\n",
    "        ret_value = input_list[idx]\n",
    "    except IndexError:\n",
    "        ret_value = \"Out Of Range!\"\n",
    "    \n",
    "    return ret_value\n",
    "\n",
    "print(access_index(l, 3))\n",
    "print(access_index(l, 10))\n"
   ]
  }
 ],
 "metadata": {
  "kernelspec": {
   "display_name": "pyde",
   "language": "python",
   "name": "python3"
  },
  "language_info": {
   "codemirror_mode": {
    "name": "ipython",
    "version": 3
   },
   "file_extension": ".py",
   "mimetype": "text/x-python",
   "name": "python",
   "nbconvert_exporter": "python",
   "pygments_lexer": "ipython3",
   "version": "3.12.7"
  }
 },
 "nbformat": 4,
 "nbformat_minor": 2
}
